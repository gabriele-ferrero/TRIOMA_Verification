{
 "cells": [
  {
   "cell_type": "code",
   "execution_count": 6,
   "metadata": {},
   "outputs": [
    {
     "data": {
      "image/png": "[encoded data removed]",
      "text/plain": [
       "<Figure size 600x600 with 1 Axes>"
      ]
     },
     "metadata": {},
     "output_type": "display_data"
    }
   ],
   "source": [
    "import matplotlib.pyplot as plt\n",
    "import matplotlib.patches as patches\n",
    "import numpy as np\n",
    "## increase font size\n",
    "plt.rcParams.update({'font.size': 18})\n",
    "def draw_separator_diagram():\n",
    "    fig, ax = plt.subplots(figsize=(6,6))\n",
    "    \n",
    "    # Draw rectangle (separator unit)\n",
    "    rect = patches.Rectangle((1.75, 2), 2.5, 3, linewidth=2, edgecolor='blue', facecolor='lightblue')\n",
    "    ax.add_patch(rect)\n",
    "\n",
    "    # Arrows for inlets and outlets\n",
    "    arrows = [\n",
    "        ((2, 1), (2, 2)),  # Liquid in (left)\n",
    "        ((4, 5.5), (4, 5)),  # Gas in (bottom)\n",
    "        ((4, 2), (4, 1)),  # Gas out (top)\n",
    "        ((2, 5), (2, 6))   # Liquid out (left)\n",
    "    ]\n",
    "    \n",
    "    labels = [\n",
    "        (0.9, 1.6, r\"$u_{L} , c_{L,in}$\"),  # Liquid in\n",
    "        (4.1, 5.2, r\"$u_{g} , c_{g,in}$\"),  # Gas in\n",
    "        (4.1, 1.6, r\"$u_{g} , c_{g,out}$\"),  # Gas out\n",
    "        (0.7, 5.5, r\"$u_{L} , c_{L,out}$\")  # Liquid out\n",
    "    ]\n",
    "\n",
    "    for (x1, y1), (x2, y2) in arrows:\n",
    "        ax.annotate(\"\", xy=(x2, y2), xytext=(x1, y1),\n",
    "                    arrowprops=dict(arrowstyle=\"->\", linewidth=2, color=\"black\"))\n",
    "\n",
    "    for x, y, text in labels:\n",
    "        ax.text(x, y, text, fontsize=18, verticalalignment=\"center\")\n",
    "\n",
    "    # Labels for the streams\n",
    "    # ax.text(0.8, 4, \"Liquid in\", fontsize=12, verticalalignment=\"center\")\n",
    "    # ax.text(4.2, 5.2, \"Gas in\", fontsize=12, verticalalignment=\"center\")\n",
    "    # ax.text(4.2, 1.4, \"Gas out\", fontsize=12, verticalalignment=\"center\")\n",
    "    # ax.text(0.8, 3, \"Liquid out\", fontsize=12, verticalalignment=\"center\")\n",
    "\n",
    "    # Remove axes\n",
    "    ax.set_xlim(0, 6)\n",
    "    ax.set_ylim(0, 6)\n",
    "    ax.set_xticks([])\n",
    "    ax.set_yticks([])\n",
    "    ax.axis(\"off\")\n",
    "    plt.tight_layout()\n",
    "    plt.savefig(\"GLC.png\", dpi=300)\n",
    "    plt.show()\n",
    "\n",
    "draw_separator_diagram()\n"
   ]
  }
 ],
 "metadata": {
  "kernelspec": {
   "display_name": "trioma",
   "language": "python",
   "name": "python3"
  },
  "language_info": {
   "codemirror_mode": {
    "name": "ipython",
    "version": 3
   },
   "file_extension": ".py",
   "mimetype": "text/x-python",
   "name": "python",
   "nbconvert_exporter": "python",
   "pygments_lexer": "ipython3",
   "version": "3.12.8"
  }
 },
 "nbformat": 4,
 "nbformat_minor": 2
}
